{
 "cells": [
  {
   "cell_type": "markdown",
   "id": "be2dbdd5",
   "metadata": {},
   "source": [
    "# 01. Importing Libaries"
   ]
  },
  {
   "cell_type": "code",
   "execution_count": 2,
   "id": "b7c10d71",
   "metadata": {},
   "outputs": [],
   "source": [
    "# Import libraries\n",
    "import pandas as pd\n",
    "import numpy as np\n",
    "import os"
   ]
  },
  {
   "cell_type": "markdown",
   "id": "78729f43",
   "metadata": {},
   "source": [
    "# 02. Data Types"
   ]
  },
  {
   "cell_type": "markdown",
   "id": "feeaab05",
   "metadata": {},
   "source": [
    "### Adding/Subtracting numbers to get to 100"
   ]
  },
  {
   "cell_type": "code",
   "execution_count": 25,
   "id": "d00e154e",
   "metadata": {},
   "outputs": [],
   "source": [
    "x=50\n",
    "y=50"
   ]
  },
  {
   "cell_type": "code",
   "execution_count": 26,
   "id": "a1f11e66",
   "metadata": {},
   "outputs": [
    {
     "data": {
      "text/plain": [
       "100"
      ]
     },
     "execution_count": 26,
     "metadata": {},
     "output_type": "execute_result"
    }
   ],
   "source": [
    "x+y"
   ]
  },
  {
   "cell_type": "code",
   "execution_count": 27,
   "id": "b18f83be",
   "metadata": {},
   "outputs": [],
   "source": [
    "z=115\n",
    "a=15"
   ]
  },
  {
   "cell_type": "code",
   "execution_count": 28,
   "id": "d48103b6",
   "metadata": {},
   "outputs": [
    {
     "data": {
      "text/plain": [
       "100"
      ]
     },
     "execution_count": 28,
     "metadata": {},
     "output_type": "execute_result"
    }
   ],
   "source": [
    "z-a"
   ]
  },
  {
   "cell_type": "code",
   "execution_count": 29,
   "id": "52c2aa30",
   "metadata": {},
   "outputs": [],
   "source": [
    "m=99\n",
    "n=1"
   ]
  },
  {
   "cell_type": "code",
   "execution_count": 30,
   "id": "8d959025",
   "metadata": {},
   "outputs": [
    {
     "data": {
      "text/plain": [
       "100"
      ]
     },
     "execution_count": 30,
     "metadata": {},
     "output_type": "execute_result"
    }
   ],
   "source": [
    "m+n"
   ]
  },
  {
   "cell_type": "markdown",
   "id": "d34edc98",
   "metadata": {},
   "source": [
    "### Dividing Floats"
   ]
  },
  {
   "cell_type": "code",
   "execution_count": 31,
   "id": "4c1ed12d",
   "metadata": {},
   "outputs": [],
   "source": [
    "b=3.4\n",
    "c=2.5"
   ]
  },
  {
   "cell_type": "code",
   "execution_count": 32,
   "id": "7a33965b",
   "metadata": {},
   "outputs": [
    {
     "data": {
      "text/plain": [
       "1.3599999999999999"
      ]
     },
     "execution_count": 32,
     "metadata": {},
     "output_type": "execute_result"
    }
   ],
   "source": [
    "b/c"
   ]
  },
  {
   "cell_type": "markdown",
   "id": "646c2309",
   "metadata": {},
   "source": [
    "### Combining Strings to Create a Word"
   ]
  },
  {
   "cell_type": "code",
   "execution_count": 34,
   "id": "66cf2432",
   "metadata": {},
   "outputs": [],
   "source": [
    "a='base'\n",
    "b='ball'"
   ]
  },
  {
   "cell_type": "code",
   "execution_count": 35,
   "id": "7d632170",
   "metadata": {},
   "outputs": [
    {
     "data": {
      "text/plain": [
       "'baseball'"
      ]
     },
     "execution_count": 35,
     "metadata": {},
     "output_type": "execute_result"
    }
   ],
   "source": [
    "a+b"
   ]
  },
  {
   "cell_type": "markdown",
   "id": "b0b1b42a",
   "metadata": {},
   "source": [
    "### Combining Strings to Create a Sentence"
   ]
  },
  {
   "cell_type": "code",
   "execution_count": 37,
   "id": "29dbb253",
   "metadata": {},
   "outputs": [],
   "source": [
    "x='I would like '\n",
    "y='to buy a hamburger.'"
   ]
  },
  {
   "cell_type": "code",
   "execution_count": 38,
   "id": "2e97f93a",
   "metadata": {},
   "outputs": [
    {
     "data": {
      "text/plain": [
       "'I would like to buy a hamburger.'"
      ]
     },
     "execution_count": 38,
     "metadata": {},
     "output_type": "execute_result"
    }
   ],
   "source": [
    "x+y"
   ]
  }
 ],
 "metadata": {
  "kernelspec": {
   "display_name": "Python 3 (ipykernel)",
   "language": "python",
   "name": "python3"
  },
  "language_info": {
   "codemirror_mode": {
    "name": "ipython",
    "version": 3
   },
   "file_extension": ".py",
   "mimetype": "text/x-python",
   "name": "python",
   "nbconvert_exporter": "python",
   "pygments_lexer": "ipython3",
   "version": "3.9.7"
  }
 },
 "nbformat": 4,
 "nbformat_minor": 5
}
